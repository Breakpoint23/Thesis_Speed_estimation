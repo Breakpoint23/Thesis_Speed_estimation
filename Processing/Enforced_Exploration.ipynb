{
 "cells": [
  {
   "cell_type": "code",
   "execution_count": 1,
   "metadata": {},
   "outputs": [
    {
     "name": "stderr",
     "output_type": "stream",
     "text": [
      "/home/prestige/Documents/venvs/activity_class/lib/python3.10/site-packages/tqdm/auto.py:22: TqdmWarning: IProgress not found. Please update jupyter and ipywidgets. See https://ipywidgets.readthedocs.io/en/stable/user_install.html\n",
      "  from .autonotebook import tqdm as notebook_tqdm\n"
     ]
    }
   ],
   "source": [
    "import numpy as np\n",
    "import pandas as pd\n",
    "import scipy as sc\n",
    "import matplotlib.pyplot as plt\n",
    "import pickle\n",
    "import os,sys\n",
    "import pyxdf as xdf\n",
    "import torch\n",
    "from torch.utils.data import DataLoader\n",
    "import seaborn as sns\n",
    "from sklearn.metrics import mean_squared_error\n",
    "sys.path.append(\"../models/model_based_files/\")\n",
    "#sys.path.append(\"../models/Data_based_models/transformer_1/\")\n",
    "sys.path.append(\"../models/Data_based_models/CNN9/\")\n",
    "from Speed_Recognition_3 import SpeedRecProcessing as SRP\n",
    "from model_2 import Speed_model_2 as SP\n",
    "from model2 import CNN as CLSTM\n",
    "#from model2 import CNN_LSTM as CLSTM\n",
    "from preprocessing1 import preprocess,split\n",
    "from dataset import IMU"
   ]
  },
  {
   "cell_type": "code",
   "execution_count": 2,
   "metadata": {},
   "outputs": [],
   "source": [
    "sns.set_style('darkgrid') # darkgrid, white grid, dark, white and ticks\n",
    "plt.rc('axes', titlesize=13)     # fontsize of the axes title\n",
    "plt.rc('axes', labelsize=10)    # fontsize of the x and y labels\n",
    "plt.rc('xtick', labelsize=10)    # fontsize of the tick labels\n",
    "plt.rc('ytick', labelsize=10)    # fontsize of the tick labels\n",
    "plt.rc('legend', fontsize=10)    # legend fontsize\n",
    "plt.rc('font', size=10)       "
   ]
  },
  {
   "cell_type": "code",
   "execution_count": 7,
   "metadata": {},
   "outputs": [
    {
     "name": "stdout",
     "output_type": "stream",
     "text": [
      "(88128, 3)\n",
      "(92896, 3)\n",
      "(82176, 3)\n",
      "(83936, 3)\n",
      "(81248, 3)\n",
      "(68096, 3)\n"
     ]
    }
   ],
   "source": [
    "ds=[]\n",
    "dst=[]\n",
    "acc=[]\n",
    "acct=[]\n",
    "runs=[2,3,4,5,7,9]\n",
    "for run in runs:\n",
    "\n",
    "    data,header=xdf.load_xdf(f'../Recordings/sub-P006/Session1/sub-P001_ses-S001_task-Default_run-00{run}_eeg.xdf')\n",
    "    for stream in data:\n",
    "  \n",
    "            if stream['info']['name'][0]=='TestInf':\n",
    "                ds.append(stream['time_series'])\n",
    "                dst.append(stream['time_stamps'])\n",
    "            if stream['info']['name'][0]=='polar accel':\n",
    "                acc.append(stream['time_series'])\n",
    "                acct.append(stream['time_stamps'])\n",
    "                print(stream['time_series'].shape)\n",
    "           "
   ]
  },
  {
   "cell_type": "code",
   "execution_count": 8,
   "metadata": {},
   "outputs": [],
   "source": [
    "for i in range(len(dst)):\n",
    "    try:\n",
    "        dst[i]=dst[i]-dst[i][0]\n",
    "        acct[i]=acct[i]-acct[i][0]\n",
    "    except:\n",
    "        print(i,dst[i],acct[i])\n",
    "        acct[i]=acct[i]-acct[i][0]        \n"
   ]
  },
  {
   "cell_type": "code",
   "execution_count": 9,
   "metadata": {},
   "outputs": [
    {
     "name": "stdout",
     "output_type": "stream",
     "text": [
      "10\n",
      "11\n",
      "10\n",
      "10\n",
      "10\n",
      "9\n"
     ]
    }
   ],
   "source": [
    "for i in range(len(ds)):\n",
    "    print(len(ds[i]))"
   ]
  },
  {
   "cell_type": "code",
   "execution_count": 16,
   "metadata": {},
   "outputs": [
    {
     "name": "stdout",
     "output_type": "stream",
     "text": [
      "Start :  standing\n",
      "Start :  walking 2.8 low torque\n",
      "Start :  walking 2.8 powered\n",
      "Start :  walking 2.8 powered wider stance\n",
      "Start :  walking 2.8 powered low step freq\n",
      "Start :  walking 2.8 powered swing arms more\n",
      "Start :  walking 2.8 powered high step freq\n",
      "Start :  walking 2.8 powered\n",
      "Start :  standing\n"
     ]
    }
   ],
   "source": [
    "for msg in ds[-1]:\n",
    "    print(msg[0].split(',')[6])"
   ]
  },
  {
   "cell_type": "code",
   "execution_count": null,
   "metadata": {},
   "outputs": [],
   "source": []
  }
 ],
 "metadata": {
  "kernelspec": {
   "display_name": "activity_class",
   "language": "python",
   "name": "activity_class"
  },
  "language_info": {
   "codemirror_mode": {
    "name": "ipython",
    "version": 3
   },
   "file_extension": ".py",
   "mimetype": "text/x-python",
   "name": "python",
   "nbconvert_exporter": "python",
   "pygments_lexer": "ipython3",
   "version": "3.10.6"
  },
  "orig_nbformat": 4
 },
 "nbformat": 4,
 "nbformat_minor": 2
}
